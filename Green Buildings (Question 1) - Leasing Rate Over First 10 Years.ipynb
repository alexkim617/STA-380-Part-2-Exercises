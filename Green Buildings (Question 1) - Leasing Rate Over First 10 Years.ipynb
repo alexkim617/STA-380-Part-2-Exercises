{
 "cells": [
  {
   "cell_type": "code",
   "execution_count": 1,
   "id": "4c675af3",
   "metadata": {},
   "outputs": [
    {
     "name": "stdout",
     "output_type": "stream",
     "text": [
      "%pylab is deprecated, use %matplotlib inline and import the required libraries.\n",
      "Populating the interactive namespace from numpy and matplotlib\n"
     ]
    }
   ],
   "source": [
    "from pandas import Series, DataFrame\n",
    "import pandas as pd\n",
    "import statsmodels.api as sm\n",
    "from patsy import dmatrices\n",
    "import seaborn as sns\n",
    "import statsmodels.api as sm\n",
    "from sklearn.preprocessing import LabelEncoder\n",
    "from sklearn.model_selection import train_test_split,GridSearchCV,cross_val_score\n",
    "from sklearn.metrics import confusion_matrix,accuracy_score,classification_report\n",
    "import matplotlib.pyplot as plt\n",
    "%pylab inline"
   ]
  },
  {
   "cell_type": "code",
   "execution_count": 18,
   "id": "bf6ef2c3",
   "metadata": {},
   "outputs": [
    {
     "data": {
      "text/html": [
       "<div>\n",
       "<style scoped>\n",
       "    .dataframe tbody tr th:only-of-type {\n",
       "        vertical-align: middle;\n",
       "    }\n",
       "\n",
       "    .dataframe tbody tr th {\n",
       "        vertical-align: top;\n",
       "    }\n",
       "\n",
       "    .dataframe thead th {\n",
       "        text-align: right;\n",
       "    }\n",
       "</style>\n",
       "<table border=\"1\" class=\"dataframe\">\n",
       "  <thead>\n",
       "    <tr style=\"text-align: right;\">\n",
       "      <th></th>\n",
       "      <th>CS_PropertyID</th>\n",
       "      <th>cluster</th>\n",
       "      <th>size</th>\n",
       "      <th>empl_gr</th>\n",
       "      <th>Rent</th>\n",
       "      <th>leasing_rate</th>\n",
       "      <th>stories</th>\n",
       "      <th>age</th>\n",
       "      <th>renovated</th>\n",
       "      <th>class_a</th>\n",
       "      <th>...</th>\n",
       "      <th>green_rating</th>\n",
       "      <th>net</th>\n",
       "      <th>amenities</th>\n",
       "      <th>cd_total_07</th>\n",
       "      <th>hd_total07</th>\n",
       "      <th>total_dd_07</th>\n",
       "      <th>Precipitation</th>\n",
       "      <th>Gas_Costs</th>\n",
       "      <th>Electricity_Costs</th>\n",
       "      <th>cluster_rent</th>\n",
       "    </tr>\n",
       "  </thead>\n",
       "  <tbody>\n",
       "    <tr>\n",
       "      <th>0</th>\n",
       "      <td>379105</td>\n",
       "      <td>1</td>\n",
       "      <td>260300</td>\n",
       "      <td>2.22</td>\n",
       "      <td>38.56</td>\n",
       "      <td>91.39</td>\n",
       "      <td>14</td>\n",
       "      <td>16</td>\n",
       "      <td>0</td>\n",
       "      <td>1</td>\n",
       "      <td>...</td>\n",
       "      <td>1</td>\n",
       "      <td>0</td>\n",
       "      <td>1</td>\n",
       "      <td>4988</td>\n",
       "      <td>58</td>\n",
       "      <td>5046</td>\n",
       "      <td>42.57</td>\n",
       "      <td>0.013700</td>\n",
       "      <td>0.029000</td>\n",
       "      <td>36.78</td>\n",
       "    </tr>\n",
       "    <tr>\n",
       "      <th>1</th>\n",
       "      <td>122151</td>\n",
       "      <td>1</td>\n",
       "      <td>67861</td>\n",
       "      <td>2.22</td>\n",
       "      <td>28.57</td>\n",
       "      <td>87.14</td>\n",
       "      <td>5</td>\n",
       "      <td>27</td>\n",
       "      <td>0</td>\n",
       "      <td>0</td>\n",
       "      <td>...</td>\n",
       "      <td>0</td>\n",
       "      <td>0</td>\n",
       "      <td>1</td>\n",
       "      <td>4988</td>\n",
       "      <td>58</td>\n",
       "      <td>5046</td>\n",
       "      <td>42.57</td>\n",
       "      <td>0.013731</td>\n",
       "      <td>0.029045</td>\n",
       "      <td>36.78</td>\n",
       "    </tr>\n",
       "    <tr>\n",
       "      <th>2</th>\n",
       "      <td>379839</td>\n",
       "      <td>1</td>\n",
       "      <td>164848</td>\n",
       "      <td>2.22</td>\n",
       "      <td>33.31</td>\n",
       "      <td>88.94</td>\n",
       "      <td>13</td>\n",
       "      <td>36</td>\n",
       "      <td>1</td>\n",
       "      <td>0</td>\n",
       "      <td>...</td>\n",
       "      <td>0</td>\n",
       "      <td>0</td>\n",
       "      <td>1</td>\n",
       "      <td>4988</td>\n",
       "      <td>58</td>\n",
       "      <td>5046</td>\n",
       "      <td>42.57</td>\n",
       "      <td>0.013731</td>\n",
       "      <td>0.029045</td>\n",
       "      <td>36.78</td>\n",
       "    </tr>\n",
       "    <tr>\n",
       "      <th>3</th>\n",
       "      <td>94614</td>\n",
       "      <td>1</td>\n",
       "      <td>93372</td>\n",
       "      <td>2.22</td>\n",
       "      <td>35.00</td>\n",
       "      <td>97.04</td>\n",
       "      <td>13</td>\n",
       "      <td>46</td>\n",
       "      <td>1</td>\n",
       "      <td>0</td>\n",
       "      <td>...</td>\n",
       "      <td>0</td>\n",
       "      <td>0</td>\n",
       "      <td>0</td>\n",
       "      <td>4988</td>\n",
       "      <td>58</td>\n",
       "      <td>5046</td>\n",
       "      <td>42.57</td>\n",
       "      <td>0.013731</td>\n",
       "      <td>0.029045</td>\n",
       "      <td>36.78</td>\n",
       "    </tr>\n",
       "    <tr>\n",
       "      <th>4</th>\n",
       "      <td>379285</td>\n",
       "      <td>1</td>\n",
       "      <td>174307</td>\n",
       "      <td>2.22</td>\n",
       "      <td>40.69</td>\n",
       "      <td>96.58</td>\n",
       "      <td>16</td>\n",
       "      <td>5</td>\n",
       "      <td>0</td>\n",
       "      <td>1</td>\n",
       "      <td>...</td>\n",
       "      <td>0</td>\n",
       "      <td>0</td>\n",
       "      <td>1</td>\n",
       "      <td>4988</td>\n",
       "      <td>58</td>\n",
       "      <td>5046</td>\n",
       "      <td>42.57</td>\n",
       "      <td>0.013731</td>\n",
       "      <td>0.029045</td>\n",
       "      <td>36.78</td>\n",
       "    </tr>\n",
       "  </tbody>\n",
       "</table>\n",
       "<p>5 rows × 23 columns</p>\n",
       "</div>"
      ],
      "text/plain": [
       "   CS_PropertyID  cluster    size  empl_gr   Rent  leasing_rate  stories  age  \\\n",
       "0         379105        1  260300     2.22  38.56         91.39       14   16   \n",
       "1         122151        1   67861     2.22  28.57         87.14        5   27   \n",
       "2         379839        1  164848     2.22  33.31         88.94       13   36   \n",
       "3          94614        1   93372     2.22  35.00         97.04       13   46   \n",
       "4         379285        1  174307     2.22  40.69         96.58       16    5   \n",
       "\n",
       "   renovated  class_a  ...  green_rating  net  amenities  cd_total_07  \\\n",
       "0          0        1  ...             1    0          1         4988   \n",
       "1          0        0  ...             0    0          1         4988   \n",
       "2          1        0  ...             0    0          1         4988   \n",
       "3          1        0  ...             0    0          0         4988   \n",
       "4          0        1  ...             0    0          1         4988   \n",
       "\n",
       "   hd_total07  total_dd_07  Precipitation  Gas_Costs  Electricity_Costs  \\\n",
       "0          58         5046          42.57   0.013700           0.029000   \n",
       "1          58         5046          42.57   0.013731           0.029045   \n",
       "2          58         5046          42.57   0.013731           0.029045   \n",
       "3          58         5046          42.57   0.013731           0.029045   \n",
       "4          58         5046          42.57   0.013731           0.029045   \n",
       "\n",
       "   cluster_rent  \n",
       "0         36.78  \n",
       "1         36.78  \n",
       "2         36.78  \n",
       "3         36.78  \n",
       "4         36.78  \n",
       "\n",
       "[5 rows x 23 columns]"
      ]
     },
     "execution_count": 18,
     "metadata": {},
     "output_type": "execute_result"
    }
   ],
   "source": [
    "green_buildings = pd.read_csv('greenbuildings.csv')\n",
    "green_buildings.head()"
   ]
  },
  {
   "cell_type": "code",
   "execution_count": 33,
   "id": "4657c4b3",
   "metadata": {},
   "outputs": [
    {
     "data": {
      "text/html": [
       "<div>\n",
       "<style scoped>\n",
       "    .dataframe tbody tr th:only-of-type {\n",
       "        vertical-align: middle;\n",
       "    }\n",
       "\n",
       "    .dataframe tbody tr th {\n",
       "        vertical-align: top;\n",
       "    }\n",
       "\n",
       "    .dataframe thead th {\n",
       "        text-align: right;\n",
       "    }\n",
       "</style>\n",
       "<table border=\"1\" class=\"dataframe\">\n",
       "  <thead>\n",
       "    <tr style=\"text-align: right;\">\n",
       "      <th></th>\n",
       "      <th></th>\n",
       "      <th>Rent</th>\n",
       "    </tr>\n",
       "    <tr>\n",
       "      <th>cluster</th>\n",
       "      <th>age</th>\n",
       "      <th></th>\n",
       "    </tr>\n",
       "  </thead>\n",
       "  <tbody>\n",
       "    <tr>\n",
       "      <th rowspan=\"5\" valign=\"top\">1</th>\n",
       "      <th>5</th>\n",
       "      <td>40.69</td>\n",
       "    </tr>\n",
       "    <tr>\n",
       "      <th>16</th>\n",
       "      <td>38.56</td>\n",
       "    </tr>\n",
       "    <tr>\n",
       "      <th>20</th>\n",
       "      <td>43.16</td>\n",
       "    </tr>\n",
       "    <tr>\n",
       "      <th>27</th>\n",
       "      <td>28.57</td>\n",
       "    </tr>\n",
       "    <tr>\n",
       "      <th>36</th>\n",
       "      <td>33.31</td>\n",
       "    </tr>\n",
       "    <tr>\n",
       "      <th>...</th>\n",
       "      <th>...</th>\n",
       "      <td>...</td>\n",
       "    </tr>\n",
       "    <tr>\n",
       "      <th rowspan=\"5\" valign=\"top\">1230</th>\n",
       "      <th>95</th>\n",
       "      <td>44.50</td>\n",
       "    </tr>\n",
       "    <tr>\n",
       "      <th>96</th>\n",
       "      <td>51.56</td>\n",
       "    </tr>\n",
       "    <tr>\n",
       "      <th>97</th>\n",
       "      <td>44.00</td>\n",
       "    </tr>\n",
       "    <tr>\n",
       "      <th>101</th>\n",
       "      <td>65.00</td>\n",
       "    </tr>\n",
       "    <tr>\n",
       "      <th>107</th>\n",
       "      <td>111.11</td>\n",
       "    </tr>\n",
       "  </tbody>\n",
       "</table>\n",
       "<p>6177 rows × 1 columns</p>\n",
       "</div>"
      ],
      "text/plain": [
       "               Rent\n",
       "cluster age        \n",
       "1       5     40.69\n",
       "        16    38.56\n",
       "        20    43.16\n",
       "        27    28.57\n",
       "        36    33.31\n",
       "...             ...\n",
       "1230    95    44.50\n",
       "        96    51.56\n",
       "        97    44.00\n",
       "        101   65.00\n",
       "        107  111.11\n",
       "\n",
       "[6177 rows x 1 columns]"
      ]
     },
     "execution_count": 33,
     "metadata": {},
     "output_type": "execute_result"
    }
   ],
   "source": [
    "cluster_grouping = green_buildings.groupby(['cluster', 'age'])[['Rent']].mean()\n",
    "# mean_group_speed = cars.groupby(['cyl', 'manufacturer'])[['speed']].mean()\n",
    "\n",
    "cluster_grouping"
   ]
  },
  {
   "cell_type": "code",
   "execution_count": 32,
   "id": "a7bb8286",
   "metadata": {},
   "outputs": [
    {
     "ename": "KeyError",
     "evalue": "False",
     "output_type": "error",
     "traceback": [
      "\u001b[0;31m---------------------------------------------------------------------------\u001b[0m",
      "\u001b[0;31mKeyError\u001b[0m                                  Traceback (most recent call last)",
      "File \u001b[0;32m~/anaconda3/lib/python3.10/site-packages/pandas/core/indexes/base.py:3802\u001b[0m, in \u001b[0;36mIndex.get_loc\u001b[0;34m(self, key, method, tolerance)\u001b[0m\n\u001b[1;32m   3801\u001b[0m \u001b[38;5;28;01mtry\u001b[39;00m:\n\u001b[0;32m-> 3802\u001b[0m     \u001b[38;5;28;01mreturn\u001b[39;00m \u001b[38;5;28;43mself\u001b[39;49m\u001b[38;5;241;43m.\u001b[39;49m\u001b[43m_engine\u001b[49m\u001b[38;5;241;43m.\u001b[39;49m\u001b[43mget_loc\u001b[49m\u001b[43m(\u001b[49m\u001b[43mcasted_key\u001b[49m\u001b[43m)\u001b[49m\n\u001b[1;32m   3803\u001b[0m \u001b[38;5;28;01mexcept\u001b[39;00m \u001b[38;5;167;01mKeyError\u001b[39;00m \u001b[38;5;28;01mas\u001b[39;00m err:\n",
      "File \u001b[0;32m~/anaconda3/lib/python3.10/site-packages/pandas/_libs/index.pyx:138\u001b[0m, in \u001b[0;36mpandas._libs.index.IndexEngine.get_loc\u001b[0;34m()\u001b[0m\n",
      "File \u001b[0;32m~/anaconda3/lib/python3.10/site-packages/pandas/_libs/index.pyx:165\u001b[0m, in \u001b[0;36mpandas._libs.index.IndexEngine.get_loc\u001b[0;34m()\u001b[0m\n",
      "File \u001b[0;32mpandas/_libs/hashtable_class_helper.pxi:5745\u001b[0m, in \u001b[0;36mpandas._libs.hashtable.PyObjectHashTable.get_item\u001b[0;34m()\u001b[0m\n",
      "File \u001b[0;32mpandas/_libs/hashtable_class_helper.pxi:5753\u001b[0m, in \u001b[0;36mpandas._libs.hashtable.PyObjectHashTable.get_item\u001b[0;34m()\u001b[0m\n",
      "\u001b[0;31mKeyError\u001b[0m: False",
      "\nThe above exception was the direct cause of the following exception:\n",
      "\u001b[0;31mKeyError\u001b[0m                                  Traceback (most recent call last)",
      "Cell \u001b[0;32mIn[32], line 2\u001b[0m\n\u001b[1;32m      1\u001b[0m plt\u001b[38;5;241m.\u001b[39msubplot(\u001b[38;5;241m3\u001b[39m,\u001b[38;5;241m2\u001b[39m,\u001b[38;5;241m1\u001b[39m)\n\u001b[0;32m----> 2\u001b[0m sns\u001b[38;5;241m.\u001b[39mboxplot(y\u001b[38;5;241m=\u001b[39m\u001b[38;5;124m'\u001b[39m\u001b[38;5;124mRent\u001b[39m\u001b[38;5;124m'\u001b[39m, x \u001b[38;5;241m=\u001b[39m \u001b[38;5;124m'\u001b[39m\u001b[38;5;124mgreen_rating\u001b[39m\u001b[38;5;124m'\u001b[39m, data\u001b[38;5;241m=\u001b[39m\u001b[43mcluster_grouping\u001b[49m\u001b[43m[\u001b[49m\u001b[43m[\u001b[49m\u001b[38;5;124;43m'\u001b[39;49m\u001b[38;5;124;43mcluster\u001b[39;49m\u001b[38;5;124;43m'\u001b[39;49m\u001b[43m]\u001b[49m\u001b[38;5;241;43m==\u001b[39;49m\u001b[38;5;124;43m'\u001b[39;49m\u001b[38;5;124;43m1\u001b[39;49m\u001b[38;5;124;43m'\u001b[39;49m\u001b[43m]\u001b[49m)\n",
      "File \u001b[0;32m~/anaconda3/lib/python3.10/site-packages/pandas/core/frame.py:3807\u001b[0m, in \u001b[0;36mDataFrame.__getitem__\u001b[0;34m(self, key)\u001b[0m\n\u001b[1;32m   3805\u001b[0m \u001b[38;5;28;01mif\u001b[39;00m \u001b[38;5;28mself\u001b[39m\u001b[38;5;241m.\u001b[39mcolumns\u001b[38;5;241m.\u001b[39mnlevels \u001b[38;5;241m>\u001b[39m \u001b[38;5;241m1\u001b[39m:\n\u001b[1;32m   3806\u001b[0m     \u001b[38;5;28;01mreturn\u001b[39;00m \u001b[38;5;28mself\u001b[39m\u001b[38;5;241m.\u001b[39m_getitem_multilevel(key)\n\u001b[0;32m-> 3807\u001b[0m indexer \u001b[38;5;241m=\u001b[39m \u001b[38;5;28;43mself\u001b[39;49m\u001b[38;5;241;43m.\u001b[39;49m\u001b[43mcolumns\u001b[49m\u001b[38;5;241;43m.\u001b[39;49m\u001b[43mget_loc\u001b[49m\u001b[43m(\u001b[49m\u001b[43mkey\u001b[49m\u001b[43m)\u001b[49m\n\u001b[1;32m   3808\u001b[0m \u001b[38;5;28;01mif\u001b[39;00m is_integer(indexer):\n\u001b[1;32m   3809\u001b[0m     indexer \u001b[38;5;241m=\u001b[39m [indexer]\n",
      "File \u001b[0;32m~/anaconda3/lib/python3.10/site-packages/pandas/core/indexes/base.py:3804\u001b[0m, in \u001b[0;36mIndex.get_loc\u001b[0;34m(self, key, method, tolerance)\u001b[0m\n\u001b[1;32m   3802\u001b[0m     \u001b[38;5;28;01mreturn\u001b[39;00m \u001b[38;5;28mself\u001b[39m\u001b[38;5;241m.\u001b[39m_engine\u001b[38;5;241m.\u001b[39mget_loc(casted_key)\n\u001b[1;32m   3803\u001b[0m \u001b[38;5;28;01mexcept\u001b[39;00m \u001b[38;5;167;01mKeyError\u001b[39;00m \u001b[38;5;28;01mas\u001b[39;00m err:\n\u001b[0;32m-> 3804\u001b[0m     \u001b[38;5;28;01mraise\u001b[39;00m \u001b[38;5;167;01mKeyError\u001b[39;00m(key) \u001b[38;5;28;01mfrom\u001b[39;00m \u001b[38;5;21;01merr\u001b[39;00m\n\u001b[1;32m   3805\u001b[0m \u001b[38;5;28;01mexcept\u001b[39;00m \u001b[38;5;167;01mTypeError\u001b[39;00m:\n\u001b[1;32m   3806\u001b[0m     \u001b[38;5;66;03m# If we have a listlike key, _check_indexing_error will raise\u001b[39;00m\n\u001b[1;32m   3807\u001b[0m     \u001b[38;5;66;03m#  InvalidIndexError. Otherwise we fall through and re-raise\u001b[39;00m\n\u001b[1;32m   3808\u001b[0m     \u001b[38;5;66;03m#  the TypeError.\u001b[39;00m\n\u001b[1;32m   3809\u001b[0m     \u001b[38;5;28mself\u001b[39m\u001b[38;5;241m.\u001b[39m_check_indexing_error(key)\n",
      "\u001b[0;31mKeyError\u001b[0m: False"
     ]
    },
    {
     "data": {
      "image/png": "[encoded data removed]",
      "text/plain": [
       "<Figure size 640x480 with 1 Axes>"
      ]
     },
     "metadata": {},
     "output_type": "display_data"
    }
   ],
   "source": [
    "plt.subplot(3,2,1)\n",
    "sns.boxplot(y='Rent', x = 'green_rating', data=cluster_grouping[['cluster']=='1'])\n",
    "# plt.subplot(3,2,2)\n",
    "# sns.boxplot(y='review', x = 'Rent', data=employee)\n",
    "# plt.subplot(3,2,3)\n",
    "# sns.boxplot(y='projects', x = 'Rent', data=employee)\n",
    "# plt.subplot(3,2,4)\n",
    "# sns.boxplot(y='tenure', x = 'Rent', data=employee)\n",
    "# plt.subplot(3,2,5)\n",
    "# sns.boxplot(y='satisfaction', x = 'Rent', data=employee)"
   ]
  },
  {
   "cell_type": "code",
   "execution_count": 25,
   "id": "72868a5e",
   "metadata": {},
   "outputs": [
    {
     "data": {
      "text/plain": [
       "<Axes: title={'center': 'Rent for Green and Non Green Buildings'}, xlabel='green_rating', ylabel='Rent'>"
      ]
     },
     "execution_count": 25,
     "metadata": {},
     "output_type": "execute_result"
    },
    {
     "data": {
      "image/png": "[encoded data removed]",
      "text/plain": [
       "<Figure size 640x480 with 1 Axes>"
      ]
     },
     "metadata": {},
     "output_type": "display_data"
    }
   ],
   "source": [
    "# check numerical variable vs. y\n",
    "plt.plot(1,1,1)\n",
    "plt.title('Rent for Green and Non Green Buildings')\n",
    "sns.boxplot(y='Rent', x = 'green_rating', data=green_buildings)\n"
   ]
  },
  {
   "cell_type": "code",
   "execution_count": 26,
   "id": "b15003c3",
   "metadata": {},
   "outputs": [
    {
     "data": {
      "text/plain": [
       "<Axes: title={'center': 'Rent for Class A and Non Class A Buildings'}, xlabel='class_a', ylabel='Rent'>"
      ]
     },
     "execution_count": 26,
     "metadata": {},
     "output_type": "execute_result"
    },
    {
     "data": {
      "image/png": "[encoded data removed]",
      "text/plain": [
       "<Figure size 640x480 with 1 Axes>"
      ]
     },
     "metadata": {},
     "output_type": "display_data"
    }
   ],
   "source": [
    "plt.plot(1,1,1)\n",
    "plt.title('Rent for Class A and Non Class A Buildings')\n",
    "sns.boxplot(y='Rent', x = 'class_a', data=green_buildings)"
   ]
  },
  {
   "cell_type": "code",
   "execution_count": null,
   "id": "e7fa1d03",
   "metadata": {},
   "outputs": [],
   "source": [
    "# do above box plots but for each cluster"
   ]
  },
  {
   "cell_type": "code",
   "execution_count": 36,
   "id": "75532ebe",
   "metadata": {},
   "outputs": [
    {
     "data": {
      "text/plain": [
       "0     True\n",
       "1    False\n",
       "2    False\n",
       "3    False\n",
       "4    False\n",
       "5    False\n",
       "6     True\n",
       "7    False\n",
       "8    False\n",
       "9    False\n",
       "Name: green_rating, dtype: bool"
      ]
     },
     "execution_count": 36,
     "metadata": {},
     "output_type": "execute_result"
    }
   ],
   "source": [
    "mask = green_buildings['green_rating'] == 1\n",
    "mask.head(10)"
   ]
  },
  {
   "cell_type": "code",
   "execution_count": 38,
   "id": "ab466e93",
   "metadata": {},
   "outputs": [
    {
     "data": {
      "text/html": [
       "<div>\n",
       "<style scoped>\n",
       "    .dataframe tbody tr th:only-of-type {\n",
       "        vertical-align: middle;\n",
       "    }\n",
       "\n",
       "    .dataframe tbody tr th {\n",
       "        vertical-align: top;\n",
       "    }\n",
       "\n",
       "    .dataframe thead th {\n",
       "        text-align: right;\n",
       "    }\n",
       "</style>\n",
       "<table border=\"1\" class=\"dataframe\">\n",
       "  <thead>\n",
       "    <tr style=\"text-align: right;\">\n",
       "      <th></th>\n",
       "      <th>CS_PropertyID</th>\n",
       "      <th>cluster</th>\n",
       "      <th>size</th>\n",
       "      <th>empl_gr</th>\n",
       "      <th>Rent</th>\n",
       "      <th>leasing_rate</th>\n",
       "      <th>stories</th>\n",
       "      <th>age</th>\n",
       "      <th>renovated</th>\n",
       "      <th>class_a</th>\n",
       "      <th>...</th>\n",
       "      <th>green_rating</th>\n",
       "      <th>net</th>\n",
       "      <th>amenities</th>\n",
       "      <th>cd_total_07</th>\n",
       "      <th>hd_total07</th>\n",
       "      <th>total_dd_07</th>\n",
       "      <th>Precipitation</th>\n",
       "      <th>Gas_Costs</th>\n",
       "      <th>Electricity_Costs</th>\n",
       "      <th>cluster_rent</th>\n",
       "    </tr>\n",
       "  </thead>\n",
       "  <tbody>\n",
       "    <tr>\n",
       "      <th>0</th>\n",
       "      <td>379105</td>\n",
       "      <td>1</td>\n",
       "      <td>260300</td>\n",
       "      <td>2.22</td>\n",
       "      <td>38.56</td>\n",
       "      <td>91.39</td>\n",
       "      <td>14</td>\n",
       "      <td>16</td>\n",
       "      <td>0</td>\n",
       "      <td>1</td>\n",
       "      <td>...</td>\n",
       "      <td>1</td>\n",
       "      <td>0</td>\n",
       "      <td>1</td>\n",
       "      <td>4988</td>\n",
       "      <td>58</td>\n",
       "      <td>5046</td>\n",
       "      <td>42.57</td>\n",
       "      <td>0.0137</td>\n",
       "      <td>0.0290</td>\n",
       "      <td>36.780</td>\n",
       "    </tr>\n",
       "    <tr>\n",
       "      <th>6</th>\n",
       "      <td>236739</td>\n",
       "      <td>6</td>\n",
       "      <td>210038</td>\n",
       "      <td>4.01</td>\n",
       "      <td>12.50</td>\n",
       "      <td>94.33</td>\n",
       "      <td>11</td>\n",
       "      <td>38</td>\n",
       "      <td>0</td>\n",
       "      <td>0</td>\n",
       "      <td>...</td>\n",
       "      <td>1</td>\n",
       "      <td>0</td>\n",
       "      <td>1</td>\n",
       "      <td>2746</td>\n",
       "      <td>1670</td>\n",
       "      <td>4416</td>\n",
       "      <td>25.55</td>\n",
       "      <td>0.0101</td>\n",
       "      <td>0.0289</td>\n",
       "      <td>17.500</td>\n",
       "    </tr>\n",
       "    <tr>\n",
       "      <th>16</th>\n",
       "      <td>431225</td>\n",
       "      <td>8</td>\n",
       "      <td>409889</td>\n",
       "      <td>67.78</td>\n",
       "      <td>30.50</td>\n",
       "      <td>97.06</td>\n",
       "      <td>20</td>\n",
       "      <td>6</td>\n",
       "      <td>0</td>\n",
       "      <td>1</td>\n",
       "      <td>...</td>\n",
       "      <td>1</td>\n",
       "      <td>0</td>\n",
       "      <td>0</td>\n",
       "      <td>5240</td>\n",
       "      <td>956</td>\n",
       "      <td>6196</td>\n",
       "      <td>10.46</td>\n",
       "      <td>0.0120</td>\n",
       "      <td>0.0235</td>\n",
       "      <td>25.500</td>\n",
       "    </tr>\n",
       "    <tr>\n",
       "      <th>29</th>\n",
       "      <td>204299</td>\n",
       "      <td>11</td>\n",
       "      <td>525422</td>\n",
       "      <td>1.74</td>\n",
       "      <td>25.00</td>\n",
       "      <td>71.10</td>\n",
       "      <td>16</td>\n",
       "      <td>23</td>\n",
       "      <td>0</td>\n",
       "      <td>1</td>\n",
       "      <td>...</td>\n",
       "      <td>1</td>\n",
       "      <td>0</td>\n",
       "      <td>1</td>\n",
       "      <td>1113</td>\n",
       "      <td>6001</td>\n",
       "      <td>7114</td>\n",
       "      <td>41.32</td>\n",
       "      <td>0.0108</td>\n",
       "      <td>0.0233</td>\n",
       "      <td>22.000</td>\n",
       "    </tr>\n",
       "    <tr>\n",
       "      <th>34</th>\n",
       "      <td>437486</td>\n",
       "      <td>13</td>\n",
       "      <td>378538</td>\n",
       "      <td>3.27</td>\n",
       "      <td>26.61</td>\n",
       "      <td>95.54</td>\n",
       "      <td>17</td>\n",
       "      <td>22</td>\n",
       "      <td>0</td>\n",
       "      <td>1</td>\n",
       "      <td>...</td>\n",
       "      <td>1</td>\n",
       "      <td>0</td>\n",
       "      <td>1</td>\n",
       "      <td>2269</td>\n",
       "      <td>2382</td>\n",
       "      <td>4651</td>\n",
       "      <td>40.70</td>\n",
       "      <td>0.0138</td>\n",
       "      <td>0.0229</td>\n",
       "      <td>25.055</td>\n",
       "    </tr>\n",
       "  </tbody>\n",
       "</table>\n",
       "<p>5 rows × 23 columns</p>\n",
       "</div>"
      ],
      "text/plain": [
       "    CS_PropertyID  cluster    size  empl_gr   Rent  leasing_rate  stories  \\\n",
       "0          379105        1  260300     2.22  38.56         91.39       14   \n",
       "6          236739        6  210038     4.01  12.50         94.33       11   \n",
       "16         431225        8  409889    67.78  30.50         97.06       20   \n",
       "29         204299       11  525422     1.74  25.00         71.10       16   \n",
       "34         437486       13  378538     3.27  26.61         95.54       17   \n",
       "\n",
       "    age  renovated  class_a  ...  green_rating  net  amenities  cd_total_07  \\\n",
       "0    16          0        1  ...             1    0          1         4988   \n",
       "6    38          0        0  ...             1    0          1         2746   \n",
       "16    6          0        1  ...             1    0          0         5240   \n",
       "29   23          0        1  ...             1    0          1         1113   \n",
       "34   22          0        1  ...             1    0          1         2269   \n",
       "\n",
       "    hd_total07  total_dd_07  Precipitation  Gas_Costs  Electricity_Costs  \\\n",
       "0           58         5046          42.57     0.0137             0.0290   \n",
       "6         1670         4416          25.55     0.0101             0.0289   \n",
       "16         956         6196          10.46     0.0120             0.0235   \n",
       "29        6001         7114          41.32     0.0108             0.0233   \n",
       "34        2382         4651          40.70     0.0138             0.0229   \n",
       "\n",
       "    cluster_rent  \n",
       "0         36.780  \n",
       "6         17.500  \n",
       "16        25.500  \n",
       "29        22.000  \n",
       "34        25.055  \n",
       "\n",
       "[5 rows x 23 columns]"
      ]
     },
     "execution_count": 38,
     "metadata": {},
     "output_type": "execute_result"
    }
   ],
   "source": [
    "green_rated = green_buildings[mask]\n",
    "green_rated.head()"
   ]
  },
  {
   "cell_type": "code",
   "execution_count": 50,
   "id": "e00df144",
   "metadata": {},
   "outputs": [
    {
     "ename": "NameError",
     "evalue": "name 'x' is not defined",
     "output_type": "error",
     "traceback": [
      "\u001b[0;31m---------------------------------------------------------------------------\u001b[0m",
      "\u001b[0;31mNameError\u001b[0m                                 Traceback (most recent call last)",
      "Cell \u001b[0;32mIn[50], line 15\u001b[0m\n\u001b[1;32m     12\u001b[0m plt\u001b[38;5;241m.\u001b[39mtitle(\u001b[38;5;124m'\u001b[39m\u001b[38;5;124mAge vs Rent for Green and Non-Green Buildings\u001b[39m\u001b[38;5;124m'\u001b[39m)\n\u001b[1;32m     14\u001b[0m \u001b[38;5;66;03m# Fit a linear regression model\u001b[39;00m\n\u001b[0;32m---> 15\u001b[0m slope, intercept, r_value, p_value, std_err \u001b[38;5;241m=\u001b[39m stats\u001b[38;5;241m.\u001b[39mlinregress(\u001b[43mx\u001b[49m, y)\n\u001b[1;32m     16\u001b[0m regression_line \u001b[38;5;241m=\u001b[39m slope \u001b[38;5;241m*\u001b[39m x \u001b[38;5;241m+\u001b[39m intercept\n\u001b[1;32m     18\u001b[0m \u001b[38;5;66;03m# Plot the regression line\u001b[39;00m\n",
      "\u001b[0;31mNameError\u001b[0m: name 'x' is not defined"
     ]
    },
    {
     "data": {
      "image/png": "[encoded data removed]",
      "text/plain": [
       "<Figure size 640x480 with 1 Axes>"
      ]
     },
     "metadata": {},
     "output_type": "display_data"
    }
   ],
   "source": [
    "import numpy as np\n",
    "from scipy import stats\n",
    "\n",
    "\n",
    "# Create a scatter plot\n",
    "plt.scatter(green_buildings['age'], green_buildings['Rent'], label='All buildings', color='red')\n",
    "plt.scatter(green_rated['age'], green_rated['Rent'], label='Green rated buildings', color='green')\n",
    "\n",
    "# Add labels and title\n",
    "plt.xlabel('Age')\n",
    "plt.ylabel('Rent')\n",
    "plt.title('Age vs Rent for Green and Non-Green Buildings')\n",
    "\n",
    "# Fit a linear regression model\n",
    "slope, intercept, r_value, p_value, std_err = stats.linregress(x, y)\n",
    "regression_line = slope * x + intercept\n",
    "\n",
    "# Plot the regression line\n",
    "plt.plot(x, regression_line, color='red', label='Regression Line')\n",
    "\n",
    "# Add legend\n",
    "plt.legend()\n",
    "\n",
    "# Show the plot\n",
    "plt.show()"
   ]
  },
  {
   "cell_type": "markdown",
   "id": "dc8c06f6",
   "metadata": {},
   "source": [
    "In the above plot, blah balh"
   ]
  },
  {
   "cell_type": "markdown",
   "id": "42e9ac95",
   "metadata": {},
   "source": [
    "## Leasing Rates for Buildings in their First 10 Years"
   ]
  },
  {
   "cell_type": "markdown",
   "id": "fb527579",
   "metadata": {},
   "source": [
    "### Display the leasing rate of all buildings of age < 10 years"
   ]
  },
  {
   "cell_type": "code",
   "execution_count": 76,
   "id": "b0adbeb2",
   "metadata": {},
   "outputs": [
    {
     "name": "stdout",
     "output_type": "stream",
     "text": [
      "     leasing_rate\n",
      "age              \n",
      "0       39.929259\n",
      "1       66.351944\n",
      "2       72.274074\n",
      "3       93.023889\n",
      "4       86.747353\n",
      "5       94.270000\n",
      "6       87.449625\n",
      "7       89.703846\n",
      "8       89.577879\n",
      "9       86.723208\n"
     ]
    },
    {
     "data": {
      "text/plain": [
       "Text(0, 0.5, 'Leasing Rate')"
      ]
     },
     "execution_count": 76,
     "metadata": {},
     "output_type": "execute_result"
    },
    {
     "data": {
      "image/png": "[encoded data removed]",
      "text/plain": [
       "<Figure size 640x480 with 1 Axes>"
      ]
     },
     "metadata": {},
     "output_type": "display_data"
    }
   ],
   "source": [
    "mask = green_buildings['age'] < 10\n",
    "age_under_10 = green_buildings[mask]\n",
    "\n",
    "grouped_data = age_under_10.groupby('age')['leasing_rate'].mean().reset_index()\n",
    "grouped_data = grouped_data.set_index('age')\n",
    "\n",
    "# grouped_data.head(10)\n",
    "print(grouped_data)\n",
    "\n",
    "plt.bar(grouped_data.index, grouped_data['leasing_rate'])\n",
    "plt.title('Leasing Rates for All Buildings Under 10 Years Old')\n",
    "plt.xlabel('Age')\n",
    "plt.ylabel('Leasing Rate')"
   ]
  },
  {
   "cell_type": "code",
   "execution_count": 77,
   "id": "3cf04acb",
   "metadata": {},
   "outputs": [
    {
     "data": {
      "text/plain": [
       "80.6051077096738"
      ]
     },
     "execution_count": 77,
     "metadata": {},
     "output_type": "execute_result"
    }
   ],
   "source": [
    "avg_lease_rate = grouped_data['leasing_rate'].mean()\n"
   ]
  },
  {
   "cell_type": "markdown",
   "id": "d3f3238a",
   "metadata": {},
   "source": [
    "### Compare leasing rates of green rated buildings to all buildings"
   ]
  },
  {
   "cell_type": "code",
   "execution_count": 97,
   "id": "866657c1",
   "metadata": {},
   "outputs": [
    {
     "name": "stderr",
     "output_type": "stream",
     "text": [
      "No artists with labels found to put in legend.  Note that artists whose label start with an underscore are ignored when legend() is called with no argument.\n"
     ]
    },
    {
     "name": "stdout",
     "output_type": "stream",
     "text": [
      "Leasing rate for all buildings their first 10 years\n",
      "     leasing_rate\n",
      "age              \n",
      "0       39.929259\n",
      "1       66.351944\n",
      "2       72.274074\n",
      "3       93.023889\n",
      "4       86.747353\n",
      "5       94.270000\n",
      "6       87.449625\n",
      "7       89.703846\n",
      "8       89.577879\n",
      "9       86.723208\n",
      "\n",
      "Leasing rate for green buildings their first 10 years\n",
      "     leasing_rate\n",
      "age              \n",
      "0       37.253333\n",
      "1       77.881250\n",
      "2       90.635000\n",
      "3       97.326667\n",
      "4       79.741667\n",
      "5       94.274545\n",
      "6       92.447273\n",
      "7       93.085000\n",
      "8       93.316875\n",
      "9       95.233000\n"
     ]
    },
    {
     "data": {
      "image/png": "[encoded data removed]",
      "text/plain": [
       "<Figure size 640x480 with 1 Axes>"
      ]
     },
     "metadata": {},
     "output_type": "display_data"
    }
   ],
   "source": [
    "mask = green_buildings['age'] < 10\n",
    "age_under_10 = green_buildings[mask]\n",
    "\n",
    "mask2 = age_under_10['green_rating'] == 1\n",
    "green_under_10 = age_under_10[mask2]\n",
    "green_under_10.head(10)\n",
    "\n",
    "grouped_data_all = age_under_10.groupby('age')['leasing_rate'].mean().reset_index()\n",
    "grouped_data_all = grouped_data_all.set_index('age')\n",
    "\n",
    "grouped_data_green = green_under_10.groupby('age')['leasing_rate'].mean().reset_index()\n",
    "grouped_data_green = grouped_data_green.set_index('age')\n",
    "\n",
    "# grouped_data.head(10)\n",
    "print('Leasing rate for all buildings their first 10 years')\n",
    "print(grouped_data_all)\n",
    "print()\n",
    "print('Leasing rate for green buildings their first 10 years')\n",
    "print(grouped_data_green)\n",
    "\n",
    "width = 0.4\n",
    "\n",
    "plt.bar(grouped_data_all.index - width/2, grouped_data_all['leasing_rate'], width, color='red')\n",
    "plt.bar(grouped_data_green.index + width/2, grouped_data_green['leasing_rate'], width, color='green')\n",
    "plt.title('Leasing Rates for All Buildings Under 10 Years Old')\n",
    "plt.xlabel('Age')\n",
    "plt.ylabel('Leasing Rate')\n",
    "plt.legend()\n",
    "plt.show()"
   ]
  },
  {
   "cell_type": "code",
   "execution_count": 91,
   "id": "e082da0e",
   "metadata": {},
   "outputs": [
    {
     "name": "stdout",
     "output_type": "stream",
     "text": [
      "Average leasing rate for all buildings in their first 10 years: 80.6051077096738\n",
      "Average leasing rate for green buildings in their first 10 years: 85.11946098484847\n"
     ]
    }
   ],
   "source": [
    "avg_lease_rate_all = grouped_data_all['leasing_rate'].mean()\n",
    "avg_lease_rate_green = grouped_data_green['leasing_rate'].mean()\n",
    "\n",
    "print('Average leasing rate for all buildings in their first 10 years:', avg_lease_rate_all)\n",
    "print('Average leasing rate for green buildings in their first 10 years:', avg_lease_rate_green)"
   ]
  },
  {
   "cell_type": "code",
   "execution_count": 96,
   "id": "4cdb0e78",
   "metadata": {},
   "outputs": [
    {
     "name": "stdout",
     "output_type": "stream",
     "text": [
      "At the average lease rate for the first 10 years of a green building, it would take 9.04 years to recoup the green premium\n"
     ]
    }
   ],
   "source": [
    "green_premium = 100000000 * 0.05\n",
    "yearly_revenue = 650000 * (avg_lease_rate_green / 100)\n",
    "\n",
    "years_to_recoup = green_premium / yearly_revenue\n",
    "\n",
    "print('At the average lease rate for the first 10 years of a green building, \\\n",
    "it would take {} years to recoup the green premium'.format(years_to_recoup.round(2)))"
   ]
  },
  {
   "cell_type": "markdown",
   "id": "af4e44a3",
   "metadata": {},
   "source": [
    "The above findings show that the original estimate (that it would take 7.7 years to recoup the green premium via revenue from the difference in rent for green vs non-green buildings) may have been overly optimistic based on false assumption that the building would have a 100% lease rate immediately and consistently, or 90% at worst. These findings show that, on average, a green building has a leasing rate of 85.12% for its first 10 years, which would translate to 9.04 years in order to recoup the green premium."
   ]
  },
  {
   "cell_type": "code",
   "execution_count": null,
   "id": "1d13112d",
   "metadata": {},
   "outputs": [],
   "source": []
  }
 ],
 "metadata": {
  "kernelspec": {
   "display_name": "Python 3 (ipykernel)",
   "language": "python",
   "name": "python3"
  },
  "language_info": {
   "codemirror_mode": {
    "name": "ipython",
    "version": 3
   },
   "file_extension": ".py",
   "mimetype": "text/x-python",
   "name": "python",
   "nbconvert_exporter": "python",
   "pygments_lexer": "ipython3",
   "version": "3.10.9"
  }
 },
 "nbformat": 4,
 "nbformat_minor": 5
}
