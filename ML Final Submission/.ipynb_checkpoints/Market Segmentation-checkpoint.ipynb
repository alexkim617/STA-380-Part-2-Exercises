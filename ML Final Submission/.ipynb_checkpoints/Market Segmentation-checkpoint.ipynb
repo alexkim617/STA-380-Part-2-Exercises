{
 "cells": [
  {
   "cell_type": "markdown",
   "id": "2c1f3efa",
   "metadata": {},
   "source": [
    "Market segmentation\n",
    "\n",
    "Consider the data in social_marketing.csv. This was data collected in the course of a market-research study using followers of the Twitter account of a large consumer brand that shall remain nameless---let's call it \"NutrientH20\" just to have a label. The goal here was for NutrientH20 to understand its social-media audience a little bit better, so that it could hone its messaging a little more sharply.\n",
    "\n",
    "A bit of background on the data collection: the advertising firm who runs NutrientH20's online-advertising campaigns took a sample of the brand's Twitter followers. They collected every Twitter post (\"tweet\") by each of those followers over a seven-day period in June 2014. Every post was examined by a human annotator contracted through Amazon's Mechanical Turk service. Each tweet was categorized based on its content using a pre-specified scheme of 36 different categories, each representing a broad area of interest (e.g. politics, sports, family, etc.) Annotators were allowed to classify a post as belonging to more than one category. For example, a hypothetical post such as \"I'm really excited to see grandpa go wreck shop in his geriatic soccer league this Sunday!\" might be categorized as both \"family\" and \"sports.\" You get the picture.\n",
    "\n",
    "Each row of social_marketing.csv represents one user, labeled by a random (anonymous, unique) 9-digit alphanumeric code. Each column represents an interest, which are labeled along the top of the data file. The entries are the number of posts by a given user that fell into the given category. Two interests of note here are \"spam\" (i.e. unsolicited advertising) and \"adult\" (posts that are pornographic, salacious, or explicitly sexual). There are a lot of spam and pornography \"bots\" on Twitter; while these have been filtered out of the data set to some extent, there will certainly be some that slip through. There's also an \"uncategorized\" label. Annotators were told to use this sparingly, but it's there to capture posts that don't fit at all into any of the listed interest categories. (A lot of annotators may used the \"chatter\" category for this as well.) Keep in mind as you examine the data that you cannot expect perfect annotations of all posts. Some annotators might have simply been asleep at the wheel some, or even all, of the time! Thus there is some inevitable error and noisiness in the annotation process.\n",
    "\n",
    "Your task to is analyze this data as you see fit, and to prepare a concise report for NutrientH20 that identifies any interesting market segments that appear to stand out in their social-media audience. You have complete freedom in deciding how to pre-process the data and how to define \"market segment.\" (Is it a group of correlated interests? A cluster? A latent factor? Etc.) Just use the data to come up with some interesting, well-supported insights about the audience, and be clear about what you did."
   ]
  },
  {
   "cell_type": "code",
   "execution_count": null,
   "id": "24b0e351",
   "metadata": {},
   "outputs": [],
   "source": [
    "import pandas as pd\n",
    "from sklearn.cluster import KMeans\n",
    "from sklearn.preprocessing import StandardScaler"
   ]
  },
  {
   "cell_type": "code",
   "execution_count": null,
   "id": "d16e9b1d",
   "metadata": {},
   "outputs": [],
   "source": [
    "social = pd.read_csv(\"social_marketing.csv\")\n",
    "\n",
    "#Select columns representing interests (excluding user_id)\n",
    "interest_columns = social.columns[1:]\n",
    "\n",
    "#Standardize the Data (ensures that each feature contributes equally to the analysis, important when using distances or similarities)\n",
    "scaler = StandardScaler()\n",
    "social_scaled = scaler.fit_transform(social[interest_columns])\n",
    "\n",
    "#Perform KMeans Clustering\n",
    "num_clusters = 6    #Mess around with different variables here\n",
    "kmeans = KMeans(n_clusters = num_clusters, random_state = 42)\n",
    "social[\"cluster\"] = kmeans.fit_predict(social_scaled)\n",
    "\n",
    "#Group data by cluster and calculate mean interests\n",
    "cluster_means = social.groupby(\"cluster\")[interest_columns].mean()\n",
    "\n",
    "#Generate Report\n",
    "report = \"Market Segmentation Analysis for NutrientH20:\\n\\n\"\n",
    "for cluster_id in range(num_clusters):\n",
    "    report += f\"Cluster {cluster_id + 1}:\\n\" #Cluster Number\n",
    "    cluster_interests = cluster_means.loc[cluster_id] #Retrieves mean interests from cluster_means, giving a series containing mean for each column\n",
    "    top_interests = cluster_interests.sort_values(ascending=False)[:3] #Pulls Top 3 Interests\n",
    "    report += f\"Top Interests: {', '.join(top_interests.index)}\\n\\n\" #Appends Top 3 to report\n",
    "print(report)"
   ]
  },
  {
   "cell_type": "markdown",
   "id": "dc020acc",
   "metadata": {},
   "source": [
    "Analysis (May need to do additional Segmentation. So Far have only done clustering, could look for correlated interests or latent factors)\n",
    "\n",
    "According to our clustering of NutrientH20's twitter's following, there are the predictable clusters you'd imagine from a company called NutrientH20, such as health/fitness fans and cooking photo takers. However, there are interesting intersections with college gamers, traveling politics speakers, and religious sports fans. This could be the result of effective advertising by NutrientH20 where they were able to land an audience in these spheres of influence. Either way, further targeted advertisements and promotions would be a good way to solidify their influence in these tangential audiences."
   ]
  }
 ],
 "metadata": {
  "kernelspec": {
   "display_name": "Python 3 (ipykernel)",
   "language": "python",
   "name": "python3"
  },
  "language_info": {
   "codemirror_mode": {
    "name": "ipython",
    "version": 3
   },
   "file_extension": ".py",
   "mimetype": "text/x-python",
   "name": "python",
   "nbconvert_exporter": "python",
   "pygments_lexer": "ipython3",
   "version": "3.10.9"
  }
 },
 "nbformat": 4,
 "nbformat_minor": 5
}
