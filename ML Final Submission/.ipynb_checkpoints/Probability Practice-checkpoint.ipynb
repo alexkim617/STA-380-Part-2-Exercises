{
 "cells": [
  {
   "cell_type": "markdown",
   "id": "5b8b9d6a",
   "metadata": {},
   "source": [
    "Probability practice Part A. Visitors to your website are asked to answer a single survey question before they get access to the content on the page. Among all of the users, there are two categories: Random Clicker (RC), and Truthful Clicker (TC). There are two possible answers to the survey: yes and no. Random clickers would click either one with equal probability. You are also giving the information that the expected fraction of random clickers is 0.3. After a trial period, you get the following survey results: 65% said Yes and 35% said No. What fraction of people who are truthful clickers answered yes? Hint: use the rule of total probability."
   ]
  },
  {
   "cell_type": "code",
   "execution_count": null,
   "id": "ab45a0f1",
   "metadata": {},
   "outputs": [],
   "source": [
    "#Known Variables\n",
    "prob_RC = 0.3\n",
    "prob_TC = 1 - prob_RC\n",
    "prob_yes = .65\n",
    "prob_no = .35\n",
    "prob_yes_givenRC = 0.5\n",
    "prob_no_givenRC = 1 - prob_yes_givenRC\n",
    "\n",
    "# Using the rule of total probability, we can find the fraction of truthful clickers who answered \"Yes\"\n",
    "# p(Yes) = p(Yes|RC) * p(RC) + p(Yes|TC) * p(TC)\n",
    "# .65 = .5 * .3 + ??? * .7\n",
    "prob_yes_givenTC = (prob_yes - prob_yes_givenRC * prob_RC) / prob_TC\n",
    "\n",
    "print(\"The Fraction of People who are Truthful Clickers that answered Yes: \", prob_yes_givenTC)"
   ]
  },
  {
   "cell_type": "markdown",
   "id": "3440d4eb",
   "metadata": {},
   "source": [
    "Part B. Imagine a medical test for a disease with the following two attributes:\n",
    "\n",
    "The sensitivity is about 0.993. That is, if someone has the disease, there is a probability of 0.993 that they will test positive. The specificity is about 0.9999. This means that if someone doesn't have the disease, there is probability of 0.9999 that they will test negative. In the general population, incidence of the disease is reasonably rare: about 0.0025% of all people have it (or 0.000025 as a decimal probability). Suppose someone tests positive. What is the probability that they have the disease?"
   ]
  },
  {
   "cell_type": "code",
   "execution_count": null,
   "id": "230448ec",
   "metadata": {},
   "outputs": [],
   "source": [
    "#Known Variables\n",
    "prob_disease = 0.000025\n",
    "prob_no_disease = 1 - prob_disease\n",
    "prob_positive_given_disease = 0.993\n",
    "prob_negative_given_no_disease = 0.9999\n",
    "prob_positive_given_no_disease = 1 - prob_negative_given_no_disease \n",
    "prob_negative_given_disease = 1 - prob_positive_given_disease\n",
    "\n",
    "#Bayes Theorem: Calculating an Event given that another event has happened\n",
    "#Calculating the probability of having a disease given that the test was positive\n",
    "prob_positive = (prob_positive_given_disease * prob_disease) + (prob_positive_given_no_disease * prob_no_disease)\n",
    "prob_disease_given_positive = (prob_positive_given_disease * prob_disease) / prob_positive\n",
    "\n",
    "print(\"Probability of having the disease given a positive test result: \", prob_disease_given_positive)"
   ]
  }
 ],
 "metadata": {
  "kernelspec": {
   "display_name": "Python 3 (ipykernel)",
   "language": "python",
   "name": "python3"
  },
  "language_info": {
   "codemirror_mode": {
    "name": "ipython",
    "version": 3
   },
   "file_extension": ".py",
   "mimetype": "text/x-python",
   "name": "python",
   "nbconvert_exporter": "python",
   "pygments_lexer": "ipython3",
   "version": "3.10.9"
  }
 },
 "nbformat": 4,
 "nbformat_minor": 5
}
