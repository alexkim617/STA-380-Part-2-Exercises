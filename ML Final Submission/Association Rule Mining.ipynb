{
 "cells": [
  {
   "cell_type": "markdown",
   "id": "59621603",
   "metadata": {},
   "source": [
    "Association rule mining\n",
    "\n",
    "Revisit the notes on association rule mining and the R example on music playlists: playlists.R and playlists.csv. Then use the data on grocery purchases in groceries.txt and find some interesting association rules for these shopping baskets. The data file is a list of shopping baskets: one person's basket for each row, with multiple items per row separated by commas. Pick your own thresholds for lift and confidence; just be clear what these thresholds are and say why you picked them. Do your discovered item sets make sense? Present your discoveries in an interesting and visually appealing way.\n",
    "\n",
    "Notes:\n",
    "\n",
    "This is an exercise in visual and numerical story-telling. Do be clear in your description of what you've done, but keep the focus on the data, the figures, and the insights your analysis has drawn from the data, rather than technical details. The data file is a list of baskets: one row per basket, with multiple items per row separated by commas. You'll have to cobble together your own code for processing this into the format expected by the \"arules\" package. This is not intrinsically all that hard, but it is the kind of data-wrangling wrinkle you'll encounter frequently on real problems, where your software package expects data in one format and the data comes in a different format. Figuring out how to bridge that gap is part of the assignment, and so we won't be giving tips on this front."
   ]
  },
  {
   "cell_type": "code",
   "execution_count": 1,
   "id": "3023bda3",
   "metadata": {},
   "outputs": [],
   "source": [
    "#mlxtend library utilized for association rule mining\n",
    "from efficient_apriori import apriori\n",
    "import pandas as pd\n",
    "import matplotlib.pyplot as plt"
   ]
  },
  {
   "cell_type": "code",
   "execution_count": 4,
   "id": "98f05ba8",
   "metadata": {},
   "outputs": [
    {
     "name": "stdout",
     "output_type": "stream",
     "text": [
      "\n",
      "Association Rules:\n",
      "{root vegetables} -> {other vegetables} (conf: 0.435, supp: 0.047, lift: 2.247, conv: 1.427)\n",
      "{root vegetables} -> {whole milk} (conf: 0.449, supp: 0.049, lift: 1.756, conv: 1.350)\n",
      "{tropical fruit} -> {whole milk} (conf: 0.403, supp: 0.042, lift: 1.578, conv: 1.247)\n",
      "{whipped/sour cream} -> {whole milk} (conf: 0.450, supp: 0.032, lift: 1.760, conv: 1.353)\n",
      "{yogurt} -> {whole milk} (conf: 0.402, supp: 0.056, lift: 1.572, conv: 1.244)\n"
     ]
    }
   ],
   "source": [
    "# Step 1: Read in groceries.txt and perform data preprocessing\n",
    "groceries = []\n",
    "with open(\"groceries.txt\", \"r\") as f:\n",
    "    groceries = [line.strip().split(\",\") for line in f]\n",
    "\n",
    "# Display the list of transactions (Checks to see if the data was read in correctly)\n",
    "#for cart in groceries:\n",
    "#    print(cart)\n",
    "\n",
    "#Step 2: Perform Association Rule Mining\n",
    "#Find frequent item sets using Apriori algorithm\n",
    "#Can mess around with min support and min confidence, answer is written for supp = .03 and confidence = .4\n",
    "#### Feel free to search for better Support and Confidence, this was what I went with just to see if the code worked\n",
    "itemsets, rules = apriori(groceries, min_support = 0.03, min_confidence = 0.4)\n",
    "\n",
    "#Step 3: Display Results\n",
    "#Important Section of the Output. Look at Writeup Below that explains what the conf, supp, and lift mean\n",
    "print(\"\\nAssociation Rules:\")\n",
    "for rule in rules:\n",
    "    print(rule)"
   ]
  },
  {
   "cell_type": "markdown",
   "id": "9976f415",
   "metadata": {},
   "source": [
    "Analysis\n",
    "\n",
    "From the Association Rules Output, we see several relationships of note. For example, Root Vegetables has a confidence of .435 in relationship with other vegetables and .449 with whole milk. This means that given root vegetables are present in a grocery cart, other vegetables are also present in about 43.5% of other carts. Similarily, given Root Vegetables are present, Whole Milk will be present 44.9% of the time. The support represents how often both the antecedent and the consequent are present out of the whole dataset. So in this instance, Root Vegetables and other vegetables appear in a cart together 4.7% of the time and Root Vegetables appear with Whole Milk in a cart 4.9% of the time. The Lift measures the ratio of the observed support to the expected support if the antecedent and consequent were independent. A lift greater than 1 suggests a positive correlation between antecedent and consequent. For example, a lift of 2.247 in the rule \"{root vegetables} -> {other vegetables}\" indicates that the presence of \"root vegetables\" increases the likelihood of \"other vegetables\" being purchased together.\n",
    "\n",
    "Overall, we see that there is noteworthy associations between Root Vegetables and whole milk as well as other vegetables. There is also an association between people buying tropical fruit, whipped/sour cream, and yogurt and also buying whole milk. This suggests that whole milk itself is a very common item to have in shopping carts, notably in carts that have health conscientious shoppers who buy items such as root vegetables, tropical fruit, whipped/sour cream, and yogurt."
   ]
  }
 ],
 "metadata": {
  "kernelspec": {
   "display_name": "Python 3 (ipykernel)",
   "language": "python",
   "name": "python3"
  },
  "language_info": {
   "codemirror_mode": {
    "name": "ipython",
    "version": 3
   },
   "file_extension": ".py",
   "mimetype": "text/x-python",
   "name": "python",
   "nbconvert_exporter": "python",
   "pygments_lexer": "ipython3",
   "version": "3.10.9"
  }
 },
 "nbformat": 4,
 "nbformat_minor": 5
}
