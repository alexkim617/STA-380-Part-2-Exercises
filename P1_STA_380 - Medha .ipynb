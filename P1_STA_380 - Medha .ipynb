{
 "cells": [
  {
   "cell_type": "markdown",
   "id": "fd172958",
   "metadata": {},
   "source": [
    "Part A. Visitors to your website are asked to answer a single survey question before they get access to the content on the page. Among all of the users, there are two categories: Random Clicker (RC), and Truthful Clicker (TC). There are two possible answers to the survey: yes and no. Random clickers would click either one with equal probability. You are also giving the information that the expected fraction of random clickers is 0.3. After a trial period, you get the following survey results: 65% said Yes and 35% said No. What fraction of people who are truthful clickers answered yes? Hint: use the rule of total probability."
   ]
  },
  {
   "cell_type": "code",
   "execution_count": 3,
   "id": "19572f64",
   "metadata": {},
   "outputs": [
    {
     "data": {
      "text/plain": [
       "0.7142857142857143"
      ]
     },
     "execution_count": 3,
     "metadata": {},
     "output_type": "execute_result"
    }
   ],
   "source": [
    "fraction_random = 0.3 \n",
    "fraction_truth = 0.7 \n",
    "total_yes = 0.65 \n",
    "total_no = 0.35 \n",
    "yes_random = 0.5 \n",
    "no_random = 0.5 \n",
    "\n",
    "yes_truth = (total_yes-(yes_random*fraction_random))/fraction_truth\n",
    "yes_truth"
   ]
  },
  {
   "cell_type": "markdown",
   "id": "0980851c",
   "metadata": {},
   "source": [
    "Imagine a medical test for a disease with the following two attributes:\n",
    "\n",
    "The sensitivity is about 0.993. That is, if someone has the disease, there is a probability of 0.993 that they will test positive.\n",
    "The specificity is about 0.9999. This means that if someone doesn't have the disease, there is probability of 0.9999 that they will test negative.\n",
    "In the general population, incidence of the disease is reasonably rare: about 0.0025% of all people have it (or 0.000025 as a decimal probability).\n",
    "Suppose someone tests positive. What is the probability that they have the disease?"
   ]
  },
  {
   "cell_type": "code",
   "execution_count": 6,
   "id": "bc8aba55",
   "metadata": {},
   "outputs": [
    {
     "data": {
      "text/plain": [
       "0.19888241302651516"
      ]
     },
     "execution_count": 6,
     "metadata": {},
     "output_type": "execute_result"
    }
   ],
   "source": [
    "pve_disease = 0.993 \n",
    "nve_no_disease = 0.9999 \n",
    "disease = 0.000025\n",
    "no_disease = 1 - disease \n",
    "pve_no_disease = 1 - nve_no_disease\n",
    "nve_disease = 1 - pve_disease \n",
    "pve = (pve_no_disease*no_disease) + (pve_disease*disease)\n",
    "disease_pve = (disease*pve_disease)/pve\n",
    "\n",
    "disease_pve"
   ]
  },
  {
   "cell_type": "code",
   "execution_count": null,
   "id": "502fb220",
   "metadata": {},
   "outputs": [],
   "source": []
  }
 ],
 "metadata": {
  "kernelspec": {
   "display_name": "Python 3 (ipykernel)",
   "language": "python",
   "name": "python3"
  },
  "language_info": {
   "codemirror_mode": {
    "name": "ipython",
    "version": 3
   },
   "file_extension": ".py",
   "mimetype": "text/x-python",
   "name": "python",
   "nbconvert_exporter": "python",
   "pygments_lexer": "ipython3",
   "version": "3.10.9"
  }
 },
 "nbformat": 4,
 "nbformat_minor": 5
}
